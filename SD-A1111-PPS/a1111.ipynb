{
 "cells": [
  {
   "cell_type": "code",
   "execution_count": null,
   "id": "78c19421-f0d1-4961-a32d-9eda6bd4f15f",
   "metadata": {
    "execution": {
     "iopub.execute_input": "2023-04-15T03:53:37.107282Z",
     "iopub.status.busy": "2023-04-15T03:53:37.106970Z",
     "iopub.status.idle": "2023-04-15T03:56:17.423495Z",
     "shell.execute_reply": "2023-04-15T03:56:17.422667Z",
     "shell.execute_reply.started": "2023-04-15T03:53:37.107260Z"
    }
   },
   "outputs": [],
   "source": [
    "### Instalar o actualizar AUTOMATIC-1111\n",
    "import os\n",
    "if not os.path.isfile(\"/notebooks/stable-diffusion-webui/config.json\"):\n",
    "    %cd /notebooks\n",
    "    !git clone https://github.com/AUTOMATIC1111/stable-diffusion-webui.git\n",
    "    %cd /notebooks/stable-diffusion-webui\n",
    "    !wget -O config.json https://raw.githubusercontent.com/ResidentChief/simple_a1111_paperspace/main/config.json\n",
    "else:\n",
    "   %cd /notebooks/stable-diffusion-webui\n",
    "   !git pull\n",
    "    \n",
    "### Creando directorios para almacenar los modelos\n",
    "%mkdir /tmp/models\n",
    "%mkdir /tmp/models/stable-diffusion\n",
    "%cd /tmp/models/stable-diffusion\n",
    "\n",
    "### Descargando los modelos (remueve el # para descargar el modelo que desea)\n",
    "#!wget -O deliberate-v3.safetensors https://civitai.com/api/download/models/156110?type=Model&format=SafeTensor&size=full&fp=fp16\n",
    "#!wget -O lyriel-v1-6.safetensors https://civitai.com/api/download/models/72396\n",
    "#!wget -O AbyssOrangeMixV3-A1B.safetensors https://civitai.com/api/download/models/17233\n",
    "#!wget -O Anything_v3.ckpt https://civitai.com/api/download/models/75?type=Model&format=PickleTensor&size=full&fp=fp16\n",
    "#!wget -O MeinaMix-v11.safetensors https://civitai.com/api/download/models/119057?type=Model&format=SafeTensor&size=pruned&fp=fp16\n",
   ]
  },
  {
   "cell_type": "code",
   "execution_count": null,
   "id": "c6b73acc-67be-48aa-9cab-fac5afeff538",
   "metadata": {
    "execution": {
     "iopub.execute_input": "2023-04-15T04:06:26.412787Z",
     "iopub.status.busy": "2023-04-15T04:06:26.412171Z",
     "iopub.status.idle": "2023-04-15T04:09:05.511147Z",
     "shell.execute_reply": "2023-04-15T04:09:05.510107Z",
     "shell.execute_reply.started": "2023-04-15T04:06:26.412756Z"
    }
   },
   "outputs": [],
   "source": [
    "## Ejecutando AUTOMATIC-1111\n",
    "%cd /notebooks/stable-diffusion-webui\n",
    "!bash webui.sh -f --xformers --share --ckpt-dir /tmp/models/stable-diffusion"
   ]
  }
 ],
 "metadata": {
  "kernelspec": {
   "display_name": "Python 3 (ipykernel)",
   "language": "python",
   "name": "python3"
  },
  "language_info": {
   "codemirror_mode": {
    "name": "ipython",
    "version": 3
   },
   "file_extension": ".py",
   "mimetype": "text/x-python",
   "name": "python",
   "nbconvert_exporter": "python",
   "pygments_lexer": "ipython3",
   "version": "3.10.10"
  }
 },
 "nbformat": 4,
 "nbformat_minor": 5
}
